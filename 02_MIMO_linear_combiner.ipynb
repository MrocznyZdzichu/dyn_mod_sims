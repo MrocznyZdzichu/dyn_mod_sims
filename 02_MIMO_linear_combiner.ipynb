{
 "cells": [
  {
   "cell_type": "code",
   "execution_count": null,
   "id": "6ed4536b-eb3f-459e-a55c-e930965a0091",
   "metadata": {},
   "outputs": [],
   "source": [
    "import math\n",
    "import matplotlib.pyplot as plt\n",
    "\n",
    "import Objects\n",
    "import numpy_utils\n",
    "\n",
    "gain_matrix = [[1, 1, 1], [-1, 2, -1], [0.75, -1, 0.5]]\n",
    "MIMO_charger = Objects.Proportional_object(gain=gain_matrix)"
   ]
  },
  {
   "cell_type": "code",
   "execution_count": null,
   "id": "ca16bdd8-73b3-4628-be3f-29b904113cf2",
   "metadata": {},
   "outputs": [],
   "source": [
    "t0 = 0\n",
    "t_max = 100\n",
    "\n",
    "t  = []\n",
    "u1 = []\n",
    "u2 = []\n",
    "u3 = []\n",
    "\n",
    "for tt in range(t0, t_max+1):\n",
    "    u1.append(tt*0.1)\n",
    "    u2.append(10*math.tanh(0.03*tt))\n",
    "    u3.append(tt**0.5)\n",
    "    t.append(tt)\n",
    "    \n",
    "plt.title('Input signals preview')\n",
    "plt.plot(t, u1, label='Input 1 - linear')\n",
    "plt.plot(t, u2, label='Input 2 - tanh')\n",
    "plt.plot(t, u3, label='Input 3 - square root')\n",
    "sink = plt.legend()"
   ]
  },
  {
   "cell_type": "code",
   "execution_count": null,
   "id": "bd6f2c17-19c7-4df0-8bb4-4fa24e68d6d4",
   "metadata": {},
   "outputs": [],
   "source": [
    "from numpy_utils import converters\n",
    "conv = converters.to_array_converter()\n",
    "\n",
    "MIMO_charger.reset_history()\n",
    "\n",
    "u_series = []\n",
    "for tt in t:\n",
    "    u_vec = conv.convert_any_type([u1[tt], u2[tt], u3[tt]], vec_type='vertical')\n",
    "    u_series.append(u_vec)\n",
    "\n",
    "for input_vector in u_series:\n",
    "    MIMO_charger.simulate_step(input_vector)"
   ]
  },
  {
   "cell_type": "code",
   "execution_count": null,
   "id": "ceda7102-0cc3-4e1c-a975-993c3d4c8845",
   "metadata": {},
   "outputs": [],
   "source": [
    "t = MIMO_charger.get_timestamps()\n",
    "\n",
    "u = MIMO_charger.get_input_hist()\n",
    "u1 = [ut[0][0] for ut in u]\n",
    "u2 = [ut[1][0] for ut in u]\n",
    "u3 = [ut[2][0] for ut in u]\n",
    "\n",
    "y = MIMO_charger.get_output_hist()\n",
    "y1 = [yt[0][0] for yt in y]\n",
    "y2 = [yt[1][0] for yt in y]\n",
    "y3 = [yt[2][0] for yt in y]"
   ]
  },
  {
   "cell_type": "code",
   "execution_count": null,
   "id": "a8574356-4795-425a-8ce9-7a09f9fa27a3",
   "metadata": {},
   "outputs": [],
   "source": [
    "fig, axes = plt.subplots(3, 1, figsize=(12, 12))\n",
    "ax1, ax2, ax3 = axes\n",
    "\n",
    "plots_titles = {\n",
    "    1 : f'Sum of signal (gain 1st row = {gain_matrix[0]}))',\n",
    "    2 : f'gain 2nd row {gain_matrix[1]}',\n",
    "    3 : f'gain 3rd row {gain_matrix[2]}'\n",
    "}\n",
    "\n",
    "for serie in range(1, 4):\n",
    "    for u_serie in range(1, 4):\n",
    "        eval(f'ax{serie}.plot(t, u{u_serie}, label=\"input{u_serie}\")')\n",
    "    eval(f'ax{serie}.plot(t, y{serie}, color=\"red\", label=\"output\", lw=4)')\n",
    "    eval(f\"ax{serie}.set_title('{plots_titles[serie]}')\")\n",
    "    eval(f\"ax{serie}.legend()\")\n",
    "    eval(f\"ax{serie}.grid()\")\n",
    "\n",
    "sink = ax3.set_xlabel(\"t [s]\")\n",
    "# plt.title('MIMO simulation example')"
   ]
  }
 ],
 "metadata": {
  "kernelspec": {
   "display_name": "sims",
   "language": "python",
   "name": "sims"
  },
  "language_info": {
   "codemirror_mode": {
    "name": "ipython",
    "version": 3
   },
   "file_extension": ".py",
   "mimetype": "text/x-python",
   "name": "python",
   "nbconvert_exporter": "python",
   "pygments_lexer": "ipython3",
   "version": "3.9.13"
  }
 },
 "nbformat": 4,
 "nbformat_minor": 5
}
