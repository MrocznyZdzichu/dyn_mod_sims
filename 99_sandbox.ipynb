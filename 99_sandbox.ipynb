{
 "cells": [
  {
   "cell_type": "code",
   "execution_count": 7,
   "id": "00caeb0a-726c-4113-8cfd-7328e5a94921",
   "metadata": {},
   "outputs": [],
   "source": [
    "import numpy as np\n",
    "\n",
    "\n",
    "class to_vector_converter:\n",
    "    def __init__(self):\n",
    "        self.__allowed_vec_types = ('vertical', 'horizontal')\n",
    "        self.__allowed_input_types = (int, float, list, tuple, np.ndarray)\n",
    "\n",
    "    def __convert_scalar2array(self, scalar):\n",
    "        return np.array([scalar])\n",
    "\n",
    "    def __convert_list2array(self, iterable):\n",
    "        return np.array(iterable)\n",
    "        \n",
    "    def convert_any_type(self, input, vec_type=\"vertical\"):\n",
    "        if vec_type not in self.__allowed_vec_types:\n",
    "            raise ValueError(\"vec_type must be 'vertical' or 'horizontal'\")\n",
    "\n",
    "        if isinstance(input, (int, float)):\n",
    "            input = self.__convert_scalar2array(input)\n",
    "\n",
    "        if isinstance(input, (list, tuple)):\n",
    "            input = self.__convert_list2array(input)\n",
    "\n",
    "        if type(input) not in self.__allowed_input_types:\n",
    "            raise TypeError(\"Input must be of type int, float, list, or numpy.ndarray\")\n",
    "\n",
    "        if input.ndim > 1:\n",
    "            raise ValueError(\"Input must be a 1-dimensional array\")\n",
    "\n",
    "        if vec_type == \"vertical\":\n",
    "            return input.reshape(-1, 1)  # Konwersja na wektor kolumnowy\n",
    "        else:\n",
    "            return input.reshape(1, -1)  # Konwersja na wektor wierszowy"
   ]
  },
  {
   "cell_type": "code",
   "execution_count": 8,
   "id": "173de55d-9a4d-4c0c-9cc8-9c8d95e88e84",
   "metadata": {},
   "outputs": [
    {
     "name": "stdout",
     "output_type": "stream",
     "text": [
      "[[5]]\n",
      "[[1 2 3]]\n",
      "[[4.5]\n",
      " [6.7]]\n"
     ]
    }
   ],
   "source": [
    "# Przykład użycia\n",
    "converter = to_vector_converter()\n",
    "\n",
    "# Przykład z liczbą całkowitą\n",
    "print(converter.convert_any_type(5, \"vertical\"))\n",
    "\n",
    "# Przykład z listą\n",
    "print(converter.convert_any_type([1, 2, 3], \"horizontal\"))\n",
    "\n",
    "# Przykład z tablicą numpy\n",
    "print(converter.convert_any_type(np.array([4.5, 6.7]), \"vertical\"))"
   ]
  }
 ],
 "metadata": {
  "kernelspec": {
   "display_name": "sims",
   "language": "python",
   "name": "sims"
  },
  "language_info": {
   "codemirror_mode": {
    "name": "ipython",
    "version": 3
   },
   "file_extension": ".py",
   "mimetype": "text/x-python",
   "name": "python",
   "nbconvert_exporter": "python",
   "pygments_lexer": "ipython3",
   "version": "3.9.13"
  }
 },
 "nbformat": 4,
 "nbformat_minor": 5
}
